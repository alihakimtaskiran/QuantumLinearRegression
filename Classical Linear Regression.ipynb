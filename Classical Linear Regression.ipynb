{
 "cells": [
  {
   "cell_type": "markdown",
   "id": "f3d9f230",
   "metadata": {},
   "source": [
    "# Classical Linear Regression"
   ]
  },
  {
   "cell_type": "markdown",
   "id": "f3e7c55a",
   "metadata": {},
   "source": [
    "### Import necessary modules"
   ]
  },
  {
   "cell_type": "code",
   "execution_count": 1,
   "id": "05554bb6",
   "metadata": {},
   "outputs": [],
   "source": [
    "import numpy as np"
   ]
  },
  {
   "cell_type": "markdown",
   "id": "3661b22a",
   "metadata": {},
   "source": [
    "### Create Dataset"
   ]
  },
  {
   "cell_type": "code",
   "execution_count": 2,
   "id": "8bdd2c3f",
   "metadata": {},
   "outputs": [],
   "source": [
    "x_train=np.arange(100)\n",
    "y_train=x_train*6+10"
   ]
  },
  {
   "cell_type": "markdown",
   "id": "e722a960",
   "metadata": {},
   "source": [
    "## Classical Training of Linear Rgression"
   ]
  },
  {
   "cell_type": "code",
   "execution_count": 3,
   "id": "54055a36",
   "metadata": {},
   "outputs": [],
   "source": [
    "class Line():\n",
    "    def __init__(self):\n",
    "        self.__a=np.random.rand()\n",
    "        self.__b=np.random.rand()\n",
    "    \n",
    "    def calc(self,x):\n",
    "        return self.__a*x+self.__b\n",
    "    \n",
    "    def L2(self,x,y):\n",
    "        return np.sum(np.square(y-self.calc(x)))/x.shape[0]\n",
    "    \n",
    "    def fit(self, x, y, lr=0.01, iter_=100):\n",
    "        __s= x.shape\n",
    "        __t= y.shape\n",
    "        if not __s==__t:\n",
    "            raise ValueError(\"Dimensions of x and y must be equal\")\n",
    "        if not len(__s)==1 or not len(__t)==1:\n",
    "            raise ValueError(\"x and y must be a vector\")\n",
    "        else:\n",
    "            __s=__s[0]\n",
    "            del __t\n",
    "        print(\"Loss=\"+str(self.L2(x,y)))\n",
    "        for __i in range(iter_):\n",
    "            for __j in range(__s):\n",
    "                self.__a+=lr*2*(y[__j]-self.calc(x[__j]))\n",
    "            for __j in range(__s):\n",
    "                self.__b+=lr*2*(y[__j]-self.calc(x[__j]))        \n",
    "        \n",
    "        print(\"Loss=\"+str(self.L2(x,y)))\n",
    "    \n",
    "    def params(self):\n",
    "        return (self.__a,self.__b)"
   ]
  },
  {
   "cell_type": "code",
   "execution_count": 4,
   "id": "5e3addae",
   "metadata": {},
   "outputs": [
    {
     "name": "stdout",
     "output_type": "stream",
     "text": [
      "Loss=279.2405247440524\n",
      "Loss=1.8626080164665996e-29\n"
     ]
    },
    {
     "data": {
      "text/plain": [
       "(1.0000000000000002, -7.90769698528352e-15)"
      ]
     },
     "execution_count": 4,
     "metadata": {},
     "output_type": "execute_result"
    }
   ],
   "source": [
    "x=Line()\n",
    "x.fit(np.array([i for i in range(80)]),np.array([i for i in range(80)]),lr=.01,iter_=10000)\n",
    "x.params()"
   ]
  }
 ],
 "metadata": {
  "kernelspec": {
   "display_name": "Python 3",
   "language": "python",
   "name": "python3"
  },
  "language_info": {
   "codemirror_mode": {
    "name": "ipython",
    "version": 3
   },
   "file_extension": ".py",
   "mimetype": "text/x-python",
   "name": "python",
   "nbconvert_exporter": "python",
   "pygments_lexer": "ipython3",
   "version": "3.8.8"
  }
 },
 "nbformat": 4,
 "nbformat_minor": 5
}
